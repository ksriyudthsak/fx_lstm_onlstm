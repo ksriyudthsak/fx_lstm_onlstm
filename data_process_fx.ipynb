{
 "cells": [
  {
   "cell_type": "code",
   "execution_count": 1,
   "metadata": {},
   "outputs": [],
   "source": [
    "# FX data was downloaded from https://forextester.com/data/datasources"
   ]
  },
  {
   "cell_type": "markdown",
   "metadata": {},
   "source": [
    "# Import modules"
   ]
  },
  {
   "cell_type": "code",
   "execution_count": 2,
   "metadata": {},
   "outputs": [
    {
     "name": "stderr",
     "output_type": "stream",
     "text": [
      "Using TensorFlow backend.\n"
     ]
    }
   ],
   "source": [
    "import os\n",
    "\n",
    "import numpy as np\n",
    "import pandas as pd\n",
    "import pandas_profiling as pdp\n",
    "\n",
    "import matplotlib.pyplot as plt\n",
    "import seaborn as sns\n",
    "\n",
    "import tensorflow as tf\n",
    "import keras\n",
    "from tqdm import tqdm_notebook"
   ]
  },
  {
   "cell_type": "code",
   "execution_count": 3,
   "metadata": {},
   "outputs": [
    {
     "name": "stdout",
     "output_type": "stream",
     "text": [
      "numpy:1.16.4\n",
      "pandas:0.25.1\n",
      "tensorflow:1.14.0\n"
     ]
    }
   ],
   "source": [
    "print (\"numpy:{}\".format(np.__version__))\n",
    "print (\"pandas:{}\".format(pd.__version__))\n",
    "print (\"tensorflow:{}\".format(tf.__version__))"
   ]
  },
  {
   "cell_type": "markdown",
   "metadata": {},
   "source": [
    "## Check directory"
   ]
  },
  {
   "cell_type": "code",
   "execution_count": 4,
   "metadata": {},
   "outputs": [
    {
     "name": "stdout",
     "output_type": "stream",
     "text": [
      "['gan_mlp_lstm_onlstm_fx_checking_bug.ipynb', 'graph.dot', 'look_around_gan_cnn_lstm_stock-Copy1.ipynb', 'gan_mlp_lstm_fx_20190914.ipynb', 'look_around_gan_cnn_lstm_stock.py', 'look_around_gan_cnn_lstm.py', '9449_gmo_20180104-20190831.csv', 'rawdata', 'create_video.ipynb', 'gan_mlp_lstm_fx_20190916.ipynb', 'gan_mlp_lstm_onlstm_fx_stateful_prev_year.ipynb', 'gan_wgan_mlp_lstm_onlstm_fx_20190918.ipynb', 'gan_mlp_lstm_onlstm_fx_diff_previous_year.ipynb', 'HISTDATA_COM_ASCII_USDJPY_T201906', 'look_around_gan_cnn_lstm.ipynb', 'look_around_fx_data.ipynb', 'gan_mlp_lstm_onlstm_fx_diff_large_dataset.ipynb', '9449_gmo_20180104-20181231.csv', 'lstm_and_c_rnn_gan.ipynb', 'tuning_gan_onlstm.ipynb', 'wgan.avi', 'tuning_onlstm_2.ipynb', 'HISTDATA_COM_ASCII_USDJPY_T201905', 'gan_mlp_lstm_onlstm_fx_diff.ipynb', 'gan_mlp_lstm.ipynb', 'gan_mlp_lstm_onlstm_fx_stateful.ipynb', 'train_model', 'tuning_gan_lstm.ipynb', 'network.gv.pdf', 'output', 'tuning_lstm.ipynb', 'data_process_fx.ipynb', 'USDJPY', 'lstm_training.log', 'gan_mlp_lstm_fx_diff-Copy1.ipynb', 'data_process.ipynb', 'network.gv', 'video_gan_mlp_lstm_fx.ipynb', 'gan_mlp_lstm_onlstm_fx_2dense.ipynb', 'look_around_gan.ipynb', 'log.stdout', 'gan_mlp_lstm_onlstm_fx.ipynb', 'gan_mlp_lstm_fx_alpha-trade.ipynb', 'check_install_environment.ipynb', 'graph-new.dot', '9449_gmo_20190101-20190831.csv', 'look_around_gan_cnn_lstm_stock.ipynb', '.ipynb_checkpoints', 'gan_mlp_lstm_fx_diff_testing.ipynb', 'gan_mlp_lstm_onlstm_fx_alpha-trade.ipynb', 'tuning_onlstm.ipynb', 'tflog', 'gan_mlp_lstm_onlstm_fx_stateful_3years.ipynb', 'gan_mnist.ipynb']\n"
     ]
    }
   ],
   "source": [
    "current_dir = (os.getcwd())\n",
    "print (os.listdir(current_dir))"
   ]
  },
  {
   "cell_type": "code",
   "execution_count": 5,
   "metadata": {},
   "outputs": [
    {
     "name": "stdout",
     "output_type": "stream",
     "text": [
      "['usdjpy_train_2015-2017.csv', 'USDJPY.txt', 'USDJPY_1min_201901_201907.csv', 'usdjpy_test_2019.csv', 'usdjpy_test_2018-2019.csv', 'usdjpy_train_2010-2017.csv', 'usdjpy_test.csv', 'USDJPY_1min_201901_201907_macd.csv', 'usdjpy_train_2017.csv', 'usdjpy_train.csv', 'usdjpy_train_2018.csv', 'usdjpy_test_2018.csv']\n"
     ]
    }
   ],
   "source": [
    "print (os.listdir(current_dir+\"/USDJPY\"))"
   ]
  },
  {
   "cell_type": "markdown",
   "metadata": {},
   "source": [
    "# Get data"
   ]
  },
  {
   "cell_type": "code",
   "execution_count": 6,
   "metadata": {},
   "outputs": [
    {
     "data": {
      "text/html": [
       "<div>\n",
       "<style scoped>\n",
       "    .dataframe tbody tr th:only-of-type {\n",
       "        vertical-align: middle;\n",
       "    }\n",
       "\n",
       "    .dataframe tbody tr th {\n",
       "        vertical-align: top;\n",
       "    }\n",
       "\n",
       "    .dataframe thead th {\n",
       "        text-align: right;\n",
       "    }\n",
       "</style>\n",
       "<table border=\"1\" class=\"dataframe\">\n",
       "  <thead>\n",
       "    <tr style=\"text-align: right;\">\n",
       "      <th></th>\n",
       "      <th>&lt;TICKER&gt;</th>\n",
       "      <th>&lt;DTYYYYMMDD&gt;</th>\n",
       "      <th>&lt;TIME&gt;</th>\n",
       "      <th>&lt;OPEN&gt;</th>\n",
       "      <th>&lt;HIGH&gt;</th>\n",
       "      <th>&lt;LOW&gt;</th>\n",
       "      <th>&lt;CLOSE&gt;</th>\n",
       "      <th>&lt;VOL&gt;</th>\n",
       "    </tr>\n",
       "  </thead>\n",
       "  <tbody>\n",
       "    <tr>\n",
       "      <td>0</td>\n",
       "      <td>USDJPY</td>\n",
       "      <td>20010102</td>\n",
       "      <td>230300</td>\n",
       "      <td>114.43</td>\n",
       "      <td>114.43</td>\n",
       "      <td>114.43</td>\n",
       "      <td>114.43</td>\n",
       "      <td>4</td>\n",
       "    </tr>\n",
       "    <tr>\n",
       "      <td>1</td>\n",
       "      <td>USDJPY</td>\n",
       "      <td>20010102</td>\n",
       "      <td>230400</td>\n",
       "      <td>114.44</td>\n",
       "      <td>114.44</td>\n",
       "      <td>114.44</td>\n",
       "      <td>114.44</td>\n",
       "      <td>4</td>\n",
       "    </tr>\n",
       "    <tr>\n",
       "      <td>2</td>\n",
       "      <td>USDJPY</td>\n",
       "      <td>20010102</td>\n",
       "      <td>230500</td>\n",
       "      <td>114.44</td>\n",
       "      <td>114.44</td>\n",
       "      <td>114.44</td>\n",
       "      <td>114.44</td>\n",
       "      <td>4</td>\n",
       "    </tr>\n",
       "    <tr>\n",
       "      <td>3</td>\n",
       "      <td>USDJPY</td>\n",
       "      <td>20010102</td>\n",
       "      <td>230700</td>\n",
       "      <td>114.44</td>\n",
       "      <td>114.44</td>\n",
       "      <td>114.44</td>\n",
       "      <td>114.44</td>\n",
       "      <td>4</td>\n",
       "    </tr>\n",
       "    <tr>\n",
       "      <td>4</td>\n",
       "      <td>USDJPY</td>\n",
       "      <td>20010102</td>\n",
       "      <td>230800</td>\n",
       "      <td>114.44</td>\n",
       "      <td>114.44</td>\n",
       "      <td>114.44</td>\n",
       "      <td>114.44</td>\n",
       "      <td>4</td>\n",
       "    </tr>\n",
       "  </tbody>\n",
       "</table>\n",
       "</div>"
      ],
      "text/plain": [
       "  <TICKER>  <DTYYYYMMDD>  <TIME>  <OPEN>  <HIGH>   <LOW>  <CLOSE>  <VOL>\n",
       "0   USDJPY      20010102  230300  114.43  114.43  114.43   114.43      4\n",
       "1   USDJPY      20010102  230400  114.44  114.44  114.44   114.44      4\n",
       "2   USDJPY      20010102  230500  114.44  114.44  114.44   114.44      4\n",
       "3   USDJPY      20010102  230700  114.44  114.44  114.44   114.44      4\n",
       "4   USDJPY      20010102  230800  114.44  114.44  114.44   114.44      4"
      ]
     },
     "execution_count": 6,
     "metadata": {},
     "output_type": "execute_result"
    }
   ],
   "source": [
    "df = pd.read_csv('USDJPY/USDJPY.txt', dtype={'<TIME>': object})\n",
    "df = df.sort_values([\"<DTYYYYMMDD>\", \"<TIME>\"])\n",
    "df.head()"
   ]
  },
  {
   "cell_type": "code",
   "execution_count": 7,
   "metadata": {},
   "outputs": [
    {
     "data": {
      "text/plain": [
       "Index(['<TICKER>', '<DTYYYYMMDD>', '<TIME>', '<OPEN>', '<HIGH>', '<LOW>',\n",
       "       '<CLOSE>', '<VOL>'],\n",
       "      dtype='object')"
      ]
     },
     "execution_count": 7,
     "metadata": {},
     "output_type": "execute_result"
    }
   ],
   "source": [
    "df.columns"
   ]
  },
  {
   "cell_type": "code",
   "execution_count": 8,
   "metadata": {},
   "outputs": [
    {
     "data": {
      "text/html": [
       "<div>\n",
       "<style scoped>\n",
       "    .dataframe tbody tr th:only-of-type {\n",
       "        vertical-align: middle;\n",
       "    }\n",
       "\n",
       "    .dataframe tbody tr th {\n",
       "        vertical-align: top;\n",
       "    }\n",
       "\n",
       "    .dataframe thead th {\n",
       "        text-align: right;\n",
       "    }\n",
       "</style>\n",
       "<table border=\"1\" class=\"dataframe\">\n",
       "  <thead>\n",
       "    <tr style=\"text-align: right;\">\n",
       "      <th></th>\n",
       "      <th>date</th>\n",
       "      <th>time</th>\n",
       "      <th>Open</th>\n",
       "    </tr>\n",
       "  </thead>\n",
       "  <tbody>\n",
       "    <tr>\n",
       "      <td>0</td>\n",
       "      <td>20010102</td>\n",
       "      <td>230300</td>\n",
       "      <td>114.43</td>\n",
       "    </tr>\n",
       "    <tr>\n",
       "      <td>1</td>\n",
       "      <td>20010102</td>\n",
       "      <td>230400</td>\n",
       "      <td>114.44</td>\n",
       "    </tr>\n",
       "    <tr>\n",
       "      <td>2</td>\n",
       "      <td>20010102</td>\n",
       "      <td>230500</td>\n",
       "      <td>114.44</td>\n",
       "    </tr>\n",
       "    <tr>\n",
       "      <td>3</td>\n",
       "      <td>20010102</td>\n",
       "      <td>230700</td>\n",
       "      <td>114.44</td>\n",
       "    </tr>\n",
       "    <tr>\n",
       "      <td>4</td>\n",
       "      <td>20010102</td>\n",
       "      <td>230800</td>\n",
       "      <td>114.44</td>\n",
       "    </tr>\n",
       "  </tbody>\n",
       "</table>\n",
       "</div>"
      ],
      "text/plain": [
       "       date    time    Open\n",
       "0  20010102  230300  114.43\n",
       "1  20010102  230400  114.44\n",
       "2  20010102  230500  114.44\n",
       "3  20010102  230700  114.44\n",
       "4  20010102  230800  114.44"
      ]
     },
     "execution_count": 8,
     "metadata": {},
     "output_type": "execute_result"
    }
   ],
   "source": [
    "df.drop([\"<TICKER>\", \"<HIGH>\", \"<LOW>\", \"<CLOSE>\", \"<VOL>\"], axis=1, inplace=True)\n",
    "df.rename(columns={\"<DTYYYYMMDD>\": \"date\", \"<TIME>\": \"time\", \"<OPEN>\": \"Open\"}, inplace=True)\n",
    "df.head()"
   ]
  },
  {
   "cell_type": "code",
   "execution_count": 9,
   "metadata": {},
   "outputs": [
    {
     "data": {
      "text/html": [
       "<div>\n",
       "<style scoped>\n",
       "    .dataframe tbody tr th:only-of-type {\n",
       "        vertical-align: middle;\n",
       "    }\n",
       "\n",
       "    .dataframe tbody tr th {\n",
       "        vertical-align: top;\n",
       "    }\n",
       "\n",
       "    .dataframe thead th {\n",
       "        text-align: right;\n",
       "    }\n",
       "</style>\n",
       "<table border=\"1\" class=\"dataframe\">\n",
       "  <thead>\n",
       "    <tr style=\"text-align: right;\">\n",
       "      <th></th>\n",
       "      <th>date</th>\n",
       "      <th>time</th>\n",
       "      <th>Open</th>\n",
       "      <th>datetime</th>\n",
       "    </tr>\n",
       "  </thead>\n",
       "  <tbody>\n",
       "    <tr>\n",
       "      <td>0</td>\n",
       "      <td>20010102</td>\n",
       "      <td>230300</td>\n",
       "      <td>114.43</td>\n",
       "      <td>20010102 230300</td>\n",
       "    </tr>\n",
       "    <tr>\n",
       "      <td>1</td>\n",
       "      <td>20010102</td>\n",
       "      <td>230400</td>\n",
       "      <td>114.44</td>\n",
       "      <td>20010102 230400</td>\n",
       "    </tr>\n",
       "    <tr>\n",
       "      <td>2</td>\n",
       "      <td>20010102</td>\n",
       "      <td>230500</td>\n",
       "      <td>114.44</td>\n",
       "      <td>20010102 230500</td>\n",
       "    </tr>\n",
       "    <tr>\n",
       "      <td>3</td>\n",
       "      <td>20010102</td>\n",
       "      <td>230700</td>\n",
       "      <td>114.44</td>\n",
       "      <td>20010102 230700</td>\n",
       "    </tr>\n",
       "    <tr>\n",
       "      <td>4</td>\n",
       "      <td>20010102</td>\n",
       "      <td>230800</td>\n",
       "      <td>114.44</td>\n",
       "      <td>20010102 230800</td>\n",
       "    </tr>\n",
       "  </tbody>\n",
       "</table>\n",
       "</div>"
      ],
      "text/plain": [
       "       date    time    Open         datetime\n",
       "0  20010102  230300  114.43  20010102 230300\n",
       "1  20010102  230400  114.44  20010102 230400\n",
       "2  20010102  230500  114.44  20010102 230500\n",
       "3  20010102  230700  114.44  20010102 230700\n",
       "4  20010102  230800  114.44  20010102 230800"
      ]
     },
     "execution_count": 9,
     "metadata": {},
     "output_type": "execute_result"
    }
   ],
   "source": [
    "df['datetime'] = df['date'].astype(str) +' '+ df['time'].astype(str)\n",
    "df.head()"
   ]
  },
  {
   "cell_type": "code",
   "execution_count": 10,
   "metadata": {},
   "outputs": [
    {
     "name": "stdout",
     "output_type": "stream",
     "text": [
      "date          int64\n",
      "time         object\n",
      "Open        float64\n",
      "datetime     object\n",
      "dtype: object\n",
      "date        6562022\n",
      "time        6562022\n",
      "Open        6562022\n",
      "datetime    6562022\n",
      "dtype: int64\n"
     ]
    }
   ],
   "source": [
    "print (df.dtypes)\n",
    "print (df.count())"
   ]
  },
  {
   "cell_type": "code",
   "execution_count": 11,
   "metadata": {},
   "outputs": [
    {
     "data": {
      "text/plain": [
       "date        6562022\n",
       "time        6562022\n",
       "Open        6562022\n",
       "datetime    6562022\n",
       "dtype: int64"
      ]
     },
     "execution_count": 11,
     "metadata": {},
     "output_type": "execute_result"
    }
   ],
   "source": [
    "df = df[df[\"time\"]!=0]\n",
    "df.count()"
   ]
  },
  {
   "cell_type": "code",
   "execution_count": 12,
   "metadata": {},
   "outputs": [
    {
     "data": {
      "text/html": [
       "<div>\n",
       "<style scoped>\n",
       "    .dataframe tbody tr th:only-of-type {\n",
       "        vertical-align: middle;\n",
       "    }\n",
       "\n",
       "    .dataframe tbody tr th {\n",
       "        vertical-align: top;\n",
       "    }\n",
       "\n",
       "    .dataframe thead th {\n",
       "        text-align: right;\n",
       "    }\n",
       "</style>\n",
       "<table border=\"1\" class=\"dataframe\">\n",
       "  <thead>\n",
       "    <tr style=\"text-align: right;\">\n",
       "      <th></th>\n",
       "      <th>date</th>\n",
       "      <th>time</th>\n",
       "      <th>Open</th>\n",
       "      <th>datetime</th>\n",
       "    </tr>\n",
       "  </thead>\n",
       "  <tbody>\n",
       "    <tr>\n",
       "      <td>0</td>\n",
       "      <td>20010102</td>\n",
       "      <td>230300</td>\n",
       "      <td>114.43</td>\n",
       "      <td>2001-01-02 23:03:00</td>\n",
       "    </tr>\n",
       "    <tr>\n",
       "      <td>1</td>\n",
       "      <td>20010102</td>\n",
       "      <td>230400</td>\n",
       "      <td>114.44</td>\n",
       "      <td>2001-01-02 23:04:00</td>\n",
       "    </tr>\n",
       "    <tr>\n",
       "      <td>2</td>\n",
       "      <td>20010102</td>\n",
       "      <td>230500</td>\n",
       "      <td>114.44</td>\n",
       "      <td>2001-01-02 23:05:00</td>\n",
       "    </tr>\n",
       "    <tr>\n",
       "      <td>3</td>\n",
       "      <td>20010102</td>\n",
       "      <td>230700</td>\n",
       "      <td>114.44</td>\n",
       "      <td>2001-01-02 23:07:00</td>\n",
       "    </tr>\n",
       "    <tr>\n",
       "      <td>4</td>\n",
       "      <td>20010102</td>\n",
       "      <td>230800</td>\n",
       "      <td>114.44</td>\n",
       "      <td>2001-01-02 23:08:00</td>\n",
       "    </tr>\n",
       "  </tbody>\n",
       "</table>\n",
       "</div>"
      ],
      "text/plain": [
       "       date    time    Open            datetime\n",
       "0  20010102  230300  114.43 2001-01-02 23:03:00\n",
       "1  20010102  230400  114.44 2001-01-02 23:04:00\n",
       "2  20010102  230500  114.44 2001-01-02 23:05:00\n",
       "3  20010102  230700  114.44 2001-01-02 23:07:00\n",
       "4  20010102  230800  114.44 2001-01-02 23:08:00"
      ]
     },
     "execution_count": 12,
     "metadata": {},
     "output_type": "execute_result"
    }
   ],
   "source": [
    "df[\"datetime\"] = pd.to_datetime(df['datetime'].astype(str), format='%Y%m%d %H%M%f')\n",
    "df = df.sort_values(\"datetime\")\n",
    "df.head()"
   ]
  },
  {
   "cell_type": "code",
   "execution_count": null,
   "metadata": {},
   "outputs": [],
   "source": []
  },
  {
   "cell_type": "code",
   "execution_count": 13,
   "metadata": {},
   "outputs": [
    {
     "data": {
      "text/html": [
       "<div>\n",
       "<style scoped>\n",
       "    .dataframe tbody tr th:only-of-type {\n",
       "        vertical-align: middle;\n",
       "    }\n",
       "\n",
       "    .dataframe tbody tr th {\n",
       "        vertical-align: top;\n",
       "    }\n",
       "\n",
       "    .dataframe thead th {\n",
       "        text-align: right;\n",
       "    }\n",
       "</style>\n",
       "<table border=\"1\" class=\"dataframe\">\n",
       "  <thead>\n",
       "    <tr style=\"text-align: right;\">\n",
       "      <th></th>\n",
       "      <th>date</th>\n",
       "      <th>time</th>\n",
       "      <th>Open</th>\n",
       "      <th>datetime</th>\n",
       "    </tr>\n",
       "  </thead>\n",
       "  <tbody>\n",
       "    <tr>\n",
       "      <td>6396820</td>\n",
       "      <td>20190219</td>\n",
       "      <td>100000</td>\n",
       "      <td>110.77</td>\n",
       "      <td>2019-02-19 10:00:00</td>\n",
       "    </tr>\n",
       "  </tbody>\n",
       "</table>\n",
       "</div>"
      ],
      "text/plain": [
       "             date    time    Open            datetime\n",
       "6396820  20190219  100000  110.77 2019-02-19 10:00:00"
      ]
     },
     "execution_count": 13,
     "metadata": {},
     "output_type": "execute_result"
    }
   ],
   "source": [
    "df[(df[\"date\"]==20190219) & (df[\"time\"]==\"100000\") ]"
   ]
  },
  {
   "cell_type": "code",
   "execution_count": 14,
   "metadata": {},
   "outputs": [
    {
     "data": {
      "text/html": [
       "<div>\n",
       "<style scoped>\n",
       "    .dataframe tbody tr th:only-of-type {\n",
       "        vertical-align: middle;\n",
       "    }\n",
       "\n",
       "    .dataframe tbody tr th {\n",
       "        vertical-align: top;\n",
       "    }\n",
       "\n",
       "    .dataframe thead th {\n",
       "        text-align: right;\n",
       "    }\n",
       "</style>\n",
       "<table border=\"1\" class=\"dataframe\">\n",
       "  <thead>\n",
       "    <tr style=\"text-align: right;\">\n",
       "      <th></th>\n",
       "      <th>date</th>\n",
       "      <th>time</th>\n",
       "      <th>Open</th>\n",
       "      <th>datetime</th>\n",
       "    </tr>\n",
       "  </thead>\n",
       "  <tbody>\n",
       "    <tr>\n",
       "      <td>6398260</td>\n",
       "      <td>20190220</td>\n",
       "      <td>100000</td>\n",
       "      <td>110.77</td>\n",
       "      <td>2019-02-20 10:00:00</td>\n",
       "    </tr>\n",
       "  </tbody>\n",
       "</table>\n",
       "</div>"
      ],
      "text/plain": [
       "             date    time    Open            datetime\n",
       "6398260  20190220  100000  110.77 2019-02-20 10:00:00"
      ]
     },
     "execution_count": 14,
     "metadata": {},
     "output_type": "execute_result"
    }
   ],
   "source": [
    "df[(df[\"date\"]==20190220) & (df[\"time\"]==\"100000\") ]"
   ]
  },
  {
   "cell_type": "code",
   "execution_count": null,
   "metadata": {},
   "outputs": [],
   "source": []
  },
  {
   "cell_type": "code",
   "execution_count": 15,
   "metadata": {},
   "outputs": [
    {
     "data": {
      "text/html": [
       "<div>\n",
       "<style scoped>\n",
       "    .dataframe tbody tr th:only-of-type {\n",
       "        vertical-align: middle;\n",
       "    }\n",
       "\n",
       "    .dataframe tbody tr th {\n",
       "        vertical-align: top;\n",
       "    }\n",
       "\n",
       "    .dataframe thead th {\n",
       "        text-align: right;\n",
       "    }\n",
       "</style>\n",
       "<table border=\"1\" class=\"dataframe\">\n",
       "  <thead>\n",
       "    <tr style=\"text-align: right;\">\n",
       "      <th></th>\n",
       "      <th>date</th>\n",
       "      <th>time</th>\n",
       "      <th>Open</th>\n",
       "      <th>datetime</th>\n",
       "    </tr>\n",
       "  </thead>\n",
       "  <tbody>\n",
       "    <tr>\n",
       "      <td>613</td>\n",
       "      <td>20010103</td>\n",
       "      <td>100000</td>\n",
       "      <td>114.60</td>\n",
       "      <td>2001-01-03 10:00:00</td>\n",
       "    </tr>\n",
       "    <tr>\n",
       "      <td>2006</td>\n",
       "      <td>20010104</td>\n",
       "      <td>100000</td>\n",
       "      <td>114.32</td>\n",
       "      <td>2001-01-04 10:00:00</td>\n",
       "    </tr>\n",
       "    <tr>\n",
       "      <td>3405</td>\n",
       "      <td>20010105</td>\n",
       "      <td>100000</td>\n",
       "      <td>116.40</td>\n",
       "      <td>2001-01-05 10:00:00</td>\n",
       "    </tr>\n",
       "    <tr>\n",
       "      <td>4653</td>\n",
       "      <td>20010108</td>\n",
       "      <td>100000</td>\n",
       "      <td>116.31</td>\n",
       "      <td>2001-01-08 10:00:00</td>\n",
       "    </tr>\n",
       "    <tr>\n",
       "      <td>6059</td>\n",
       "      <td>20010109</td>\n",
       "      <td>100000</td>\n",
       "      <td>115.81</td>\n",
       "      <td>2001-01-09 10:00:00</td>\n",
       "    </tr>\n",
       "  </tbody>\n",
       "</table>\n",
       "</div>"
      ],
      "text/plain": [
       "          date    time    Open            datetime\n",
       "613   20010103  100000  114.60 2001-01-03 10:00:00\n",
       "2006  20010104  100000  114.32 2001-01-04 10:00:00\n",
       "3405  20010105  100000  116.40 2001-01-05 10:00:00\n",
       "4653  20010108  100000  116.31 2001-01-08 10:00:00\n",
       "6059  20010109  100000  115.81 2001-01-09 10:00:00"
      ]
     },
     "execution_count": 15,
     "metadata": {},
     "output_type": "execute_result"
    }
   ],
   "source": [
    "df = df[df[\"time\"]==\"100000\"]\n",
    "df.head()"
   ]
  },
  {
   "cell_type": "code",
   "execution_count": 16,
   "metadata": {},
   "outputs": [
    {
     "data": {
      "text/html": [
       "<div>\n",
       "<style scoped>\n",
       "    .dataframe tbody tr th:only-of-type {\n",
       "        vertical-align: middle;\n",
       "    }\n",
       "\n",
       "    .dataframe tbody tr th {\n",
       "        vertical-align: top;\n",
       "    }\n",
       "\n",
       "    .dataframe thead th {\n",
       "        text-align: right;\n",
       "    }\n",
       "</style>\n",
       "<table border=\"1\" class=\"dataframe\">\n",
       "  <thead>\n",
       "    <tr style=\"text-align: right;\">\n",
       "      <th></th>\n",
       "      <th>date</th>\n",
       "      <th>time</th>\n",
       "      <th>Open</th>\n",
       "      <th>datetime</th>\n",
       "    </tr>\n",
       "  </thead>\n",
       "  <tbody>\n",
       "    <tr>\n",
       "      <td>6548460</td>\n",
       "      <td>20190718</td>\n",
       "      <td>100000</td>\n",
       "      <td>107.75</td>\n",
       "      <td>2019-07-18 10:00:00</td>\n",
       "    </tr>\n",
       "    <tr>\n",
       "      <td>6549900</td>\n",
       "      <td>20190719</td>\n",
       "      <td>100000</td>\n",
       "      <td>107.63</td>\n",
       "      <td>2019-07-19 10:00:00</td>\n",
       "    </tr>\n",
       "    <tr>\n",
       "      <td>6551221</td>\n",
       "      <td>20190722</td>\n",
       "      <td>100000</td>\n",
       "      <td>107.86</td>\n",
       "      <td>2019-07-22 10:00:00</td>\n",
       "    </tr>\n",
       "    <tr>\n",
       "      <td>6552661</td>\n",
       "      <td>20190723</td>\n",
       "      <td>100000</td>\n",
       "      <td>108.18</td>\n",
       "      <td>2019-07-23 10:00:00</td>\n",
       "    </tr>\n",
       "    <tr>\n",
       "      <td>6554101</td>\n",
       "      <td>20190724</td>\n",
       "      <td>100000</td>\n",
       "      <td>108.05</td>\n",
       "      <td>2019-07-24 10:00:00</td>\n",
       "    </tr>\n",
       "    <tr>\n",
       "      <td>6555541</td>\n",
       "      <td>20190725</td>\n",
       "      <td>100000</td>\n",
       "      <td>108.08</td>\n",
       "      <td>2019-07-25 10:00:00</td>\n",
       "    </tr>\n",
       "    <tr>\n",
       "      <td>6556981</td>\n",
       "      <td>20190726</td>\n",
       "      <td>100000</td>\n",
       "      <td>108.62</td>\n",
       "      <td>2019-07-26 10:00:00</td>\n",
       "    </tr>\n",
       "    <tr>\n",
       "      <td>6558302</td>\n",
       "      <td>20190729</td>\n",
       "      <td>100000</td>\n",
       "      <td>108.61</td>\n",
       "      <td>2019-07-29 10:00:00</td>\n",
       "    </tr>\n",
       "    <tr>\n",
       "      <td>6559742</td>\n",
       "      <td>20190730</td>\n",
       "      <td>100000</td>\n",
       "      <td>108.57</td>\n",
       "      <td>2019-07-30 10:00:00</td>\n",
       "    </tr>\n",
       "    <tr>\n",
       "      <td>6561182</td>\n",
       "      <td>20190731</td>\n",
       "      <td>100000</td>\n",
       "      <td>108.55</td>\n",
       "      <td>2019-07-31 10:00:00</td>\n",
       "    </tr>\n",
       "  </tbody>\n",
       "</table>\n",
       "</div>"
      ],
      "text/plain": [
       "             date    time    Open            datetime\n",
       "6548460  20190718  100000  107.75 2019-07-18 10:00:00\n",
       "6549900  20190719  100000  107.63 2019-07-19 10:00:00\n",
       "6551221  20190722  100000  107.86 2019-07-22 10:00:00\n",
       "6552661  20190723  100000  108.18 2019-07-23 10:00:00\n",
       "6554101  20190724  100000  108.05 2019-07-24 10:00:00\n",
       "6555541  20190725  100000  108.08 2019-07-25 10:00:00\n",
       "6556981  20190726  100000  108.62 2019-07-26 10:00:00\n",
       "6558302  20190729  100000  108.61 2019-07-29 10:00:00\n",
       "6559742  20190730  100000  108.57 2019-07-30 10:00:00\n",
       "6561182  20190731  100000  108.55 2019-07-31 10:00:00"
      ]
     },
     "execution_count": 16,
     "metadata": {},
     "output_type": "execute_result"
    }
   ],
   "source": [
    "df.tail(10)"
   ]
  },
  {
   "cell_type": "code",
   "execution_count": 17,
   "metadata": {},
   "outputs": [
    {
     "data": {
      "text/html": [
       "<div>\n",
       "<style scoped>\n",
       "    .dataframe tbody tr th:only-of-type {\n",
       "        vertical-align: middle;\n",
       "    }\n",
       "\n",
       "    .dataframe tbody tr th {\n",
       "        vertical-align: top;\n",
       "    }\n",
       "\n",
       "    .dataframe thead th {\n",
       "        text-align: right;\n",
       "    }\n",
       "</style>\n",
       "<table border=\"1\" class=\"dataframe\">\n",
       "  <thead>\n",
       "    <tr style=\"text-align: right;\">\n",
       "      <th></th>\n",
       "      <th>datetime</th>\n",
       "      <th>Open</th>\n",
       "    </tr>\n",
       "  </thead>\n",
       "  <tbody>\n",
       "    <tr>\n",
       "      <td>613</td>\n",
       "      <td>2001-01-03 10:00:00</td>\n",
       "      <td>114.60</td>\n",
       "    </tr>\n",
       "    <tr>\n",
       "      <td>2006</td>\n",
       "      <td>2001-01-04 10:00:00</td>\n",
       "      <td>114.32</td>\n",
       "    </tr>\n",
       "    <tr>\n",
       "      <td>3405</td>\n",
       "      <td>2001-01-05 10:00:00</td>\n",
       "      <td>116.40</td>\n",
       "    </tr>\n",
       "    <tr>\n",
       "      <td>4653</td>\n",
       "      <td>2001-01-08 10:00:00</td>\n",
       "      <td>116.31</td>\n",
       "    </tr>\n",
       "    <tr>\n",
       "      <td>6059</td>\n",
       "      <td>2001-01-09 10:00:00</td>\n",
       "      <td>115.81</td>\n",
       "    </tr>\n",
       "  </tbody>\n",
       "</table>\n",
       "</div>"
      ],
      "text/plain": [
       "                datetime    Open\n",
       "613  2001-01-03 10:00:00  114.60\n",
       "2006 2001-01-04 10:00:00  114.32\n",
       "3405 2001-01-05 10:00:00  116.40\n",
       "4653 2001-01-08 10:00:00  116.31\n",
       "6059 2001-01-09 10:00:00  115.81"
      ]
     },
     "execution_count": 17,
     "metadata": {},
     "output_type": "execute_result"
    }
   ],
   "source": [
    "df.drop([\"date\", \"time\"], axis=1, inplace=True)\n",
    "df = df[[\"datetime\",\"Open\"]]\n",
    "df.head()"
   ]
  },
  {
   "cell_type": "code",
   "execution_count": 18,
   "metadata": {},
   "outputs": [
    {
     "data": {
      "text/html": [
       "<div>\n",
       "<style scoped>\n",
       "    .dataframe tbody tr th:only-of-type {\n",
       "        vertical-align: middle;\n",
       "    }\n",
       "\n",
       "    .dataframe tbody tr th {\n",
       "        vertical-align: top;\n",
       "    }\n",
       "\n",
       "    .dataframe thead th {\n",
       "        text-align: right;\n",
       "    }\n",
       "</style>\n",
       "<table border=\"1\" class=\"dataframe\">\n",
       "  <thead>\n",
       "    <tr style=\"text-align: right;\">\n",
       "      <th></th>\n",
       "      <th>datetime</th>\n",
       "      <th>Open</th>\n",
       "    </tr>\n",
       "  </thead>\n",
       "  <tbody>\n",
       "    <tr>\n",
       "      <td>6555541</td>\n",
       "      <td>2019-07-25 10:00:00</td>\n",
       "      <td>108.08</td>\n",
       "    </tr>\n",
       "    <tr>\n",
       "      <td>6556981</td>\n",
       "      <td>2019-07-26 10:00:00</td>\n",
       "      <td>108.62</td>\n",
       "    </tr>\n",
       "    <tr>\n",
       "      <td>6558302</td>\n",
       "      <td>2019-07-29 10:00:00</td>\n",
       "      <td>108.61</td>\n",
       "    </tr>\n",
       "    <tr>\n",
       "      <td>6559742</td>\n",
       "      <td>2019-07-30 10:00:00</td>\n",
       "      <td>108.57</td>\n",
       "    </tr>\n",
       "    <tr>\n",
       "      <td>6561182</td>\n",
       "      <td>2019-07-31 10:00:00</td>\n",
       "      <td>108.55</td>\n",
       "    </tr>\n",
       "  </tbody>\n",
       "</table>\n",
       "</div>"
      ],
      "text/plain": [
       "                   datetime    Open\n",
       "6555541 2019-07-25 10:00:00  108.08\n",
       "6556981 2019-07-26 10:00:00  108.62\n",
       "6558302 2019-07-29 10:00:00  108.61\n",
       "6559742 2019-07-30 10:00:00  108.57\n",
       "6561182 2019-07-31 10:00:00  108.55"
      ]
     },
     "execution_count": 18,
     "metadata": {},
     "output_type": "execute_result"
    }
   ],
   "source": [
    "df.tail()"
   ]
  },
  {
   "cell_type": "code",
   "execution_count": 19,
   "metadata": {},
   "outputs": [
    {
     "data": {
      "text/html": [
       "<div>\n",
       "<style scoped>\n",
       "    .dataframe tbody tr th:only-of-type {\n",
       "        vertical-align: middle;\n",
       "    }\n",
       "\n",
       "    .dataframe tbody tr th {\n",
       "        vertical-align: top;\n",
       "    }\n",
       "\n",
       "    .dataframe thead th {\n",
       "        text-align: right;\n",
       "    }\n",
       "</style>\n",
       "<table border=\"1\" class=\"dataframe\">\n",
       "  <thead>\n",
       "    <tr style=\"text-align: right;\">\n",
       "      <th></th>\n",
       "      <th>datetime</th>\n",
       "      <th>Open</th>\n",
       "    </tr>\n",
       "  </thead>\n",
       "  <tbody>\n",
       "    <tr>\n",
       "      <td>6340402</td>\n",
       "      <td>2018-12-25 10:00:00</td>\n",
       "      <td>110.23</td>\n",
       "    </tr>\n",
       "    <tr>\n",
       "      <td>6341842</td>\n",
       "      <td>2018-12-26 10:00:00</td>\n",
       "      <td>110.49</td>\n",
       "    </tr>\n",
       "    <tr>\n",
       "      <td>6343282</td>\n",
       "      <td>2018-12-27 10:00:00</td>\n",
       "      <td>110.83</td>\n",
       "    </tr>\n",
       "    <tr>\n",
       "      <td>6344722</td>\n",
       "      <td>2018-12-28 10:00:00</td>\n",
       "      <td>110.40</td>\n",
       "    </tr>\n",
       "    <tr>\n",
       "      <td>6346033</td>\n",
       "      <td>2018-12-31 10:00:00</td>\n",
       "      <td>110.07</td>\n",
       "    </tr>\n",
       "  </tbody>\n",
       "</table>\n",
       "</div>"
      ],
      "text/plain": [
       "                   datetime    Open\n",
       "6340402 2018-12-25 10:00:00  110.23\n",
       "6341842 2018-12-26 10:00:00  110.49\n",
       "6343282 2018-12-27 10:00:00  110.83\n",
       "6344722 2018-12-28 10:00:00  110.40\n",
       "6346033 2018-12-31 10:00:00  110.07"
      ]
     },
     "execution_count": 19,
     "metadata": {},
     "output_type": "execute_result"
    }
   ],
   "source": [
    "df_train = df[(df[\"datetime\"]<\"2019-01-1 00:00:00\") & (df[\"datetime\"]>=\"2018-01-1 00:00:00\")]\n",
    "df_train.tail()"
   ]
  },
  {
   "cell_type": "code",
   "execution_count": 20,
   "metadata": {},
   "outputs": [
    {
     "data": {
      "text/html": [
       "<div>\n",
       "<style scoped>\n",
       "    .dataframe tbody tr th:only-of-type {\n",
       "        vertical-align: middle;\n",
       "    }\n",
       "\n",
       "    .dataframe tbody tr th {\n",
       "        vertical-align: top;\n",
       "    }\n",
       "\n",
       "    .dataframe thead th {\n",
       "        text-align: right;\n",
       "    }\n",
       "</style>\n",
       "<table border=\"1\" class=\"dataframe\">\n",
       "  <thead>\n",
       "    <tr style=\"text-align: right;\">\n",
       "      <th></th>\n",
       "      <th>datetime</th>\n",
       "      <th>Open</th>\n",
       "    </tr>\n",
       "  </thead>\n",
       "  <tbody>\n",
       "    <tr>\n",
       "      <td>5981359</td>\n",
       "      <td>2018-01-02 10:00:00</td>\n",
       "      <td>112.37</td>\n",
       "    </tr>\n",
       "    <tr>\n",
       "      <td>5982799</td>\n",
       "      <td>2018-01-03 10:00:00</td>\n",
       "      <td>112.33</td>\n",
       "    </tr>\n",
       "    <tr>\n",
       "      <td>5984239</td>\n",
       "      <td>2018-01-04 10:00:00</td>\n",
       "      <td>112.61</td>\n",
       "    </tr>\n",
       "    <tr>\n",
       "      <td>5985679</td>\n",
       "      <td>2018-01-05 10:00:00</td>\n",
       "      <td>113.19</td>\n",
       "    </tr>\n",
       "    <tr>\n",
       "      <td>5986989</td>\n",
       "      <td>2018-01-08 10:00:00</td>\n",
       "      <td>113.22</td>\n",
       "    </tr>\n",
       "  </tbody>\n",
       "</table>\n",
       "</div>"
      ],
      "text/plain": [
       "                   datetime    Open\n",
       "5981359 2018-01-02 10:00:00  112.37\n",
       "5982799 2018-01-03 10:00:00  112.33\n",
       "5984239 2018-01-04 10:00:00  112.61\n",
       "5985679 2018-01-05 10:00:00  113.19\n",
       "5986989 2018-01-08 10:00:00  113.22"
      ]
     },
     "execution_count": 20,
     "metadata": {},
     "output_type": "execute_result"
    }
   ],
   "source": [
    "df_train.head()"
   ]
  },
  {
   "cell_type": "code",
   "execution_count": 21,
   "metadata": {},
   "outputs": [
    {
     "data": {
      "text/html": [
       "<div>\n",
       "<style scoped>\n",
       "    .dataframe tbody tr th:only-of-type {\n",
       "        vertical-align: middle;\n",
       "    }\n",
       "\n",
       "    .dataframe tbody tr th {\n",
       "        vertical-align: top;\n",
       "    }\n",
       "\n",
       "    .dataframe thead th {\n",
       "        text-align: right;\n",
       "    }\n",
       "</style>\n",
       "<table border=\"1\" class=\"dataframe\">\n",
       "  <thead>\n",
       "    <tr style=\"text-align: right;\">\n",
       "      <th></th>\n",
       "      <th>datetime</th>\n",
       "      <th>Open</th>\n",
       "    </tr>\n",
       "  </thead>\n",
       "  <tbody>\n",
       "    <tr>\n",
       "      <td>6347295</td>\n",
       "      <td>2019-01-01 10:00:00</td>\n",
       "      <td>109.59</td>\n",
       "    </tr>\n",
       "    <tr>\n",
       "      <td>6348735</td>\n",
       "      <td>2019-01-02 10:00:00</td>\n",
       "      <td>108.94</td>\n",
       "    </tr>\n",
       "    <tr>\n",
       "      <td>6350175</td>\n",
       "      <td>2019-01-03 10:00:00</td>\n",
       "      <td>107.63</td>\n",
       "    </tr>\n",
       "    <tr>\n",
       "      <td>6351615</td>\n",
       "      <td>2019-01-04 10:00:00</td>\n",
       "      <td>108.01</td>\n",
       "    </tr>\n",
       "    <tr>\n",
       "      <td>6352935</td>\n",
       "      <td>2019-01-07 10:00:00</td>\n",
       "      <td>108.19</td>\n",
       "    </tr>\n",
       "  </tbody>\n",
       "</table>\n",
       "</div>"
      ],
      "text/plain": [
       "                   datetime    Open\n",
       "6347295 2019-01-01 10:00:00  109.59\n",
       "6348735 2019-01-02 10:00:00  108.94\n",
       "6350175 2019-01-03 10:00:00  107.63\n",
       "6351615 2019-01-04 10:00:00  108.01\n",
       "6352935 2019-01-07 10:00:00  108.19"
      ]
     },
     "execution_count": 21,
     "metadata": {},
     "output_type": "execute_result"
    }
   ],
   "source": [
    "df_test = df[df[\"datetime\"]>=\"2019-01-1 00:00:00\"]\n",
    "df_test.head()"
   ]
  },
  {
   "cell_type": "code",
   "execution_count": 22,
   "metadata": {},
   "outputs": [
    {
     "data": {
      "text/html": [
       "<div>\n",
       "<style scoped>\n",
       "    .dataframe tbody tr th:only-of-type {\n",
       "        vertical-align: middle;\n",
       "    }\n",
       "\n",
       "    .dataframe tbody tr th {\n",
       "        vertical-align: top;\n",
       "    }\n",
       "\n",
       "    .dataframe thead th {\n",
       "        text-align: right;\n",
       "    }\n",
       "</style>\n",
       "<table border=\"1\" class=\"dataframe\">\n",
       "  <thead>\n",
       "    <tr style=\"text-align: right;\">\n",
       "      <th></th>\n",
       "      <th>datetime</th>\n",
       "      <th>Open</th>\n",
       "    </tr>\n",
       "  </thead>\n",
       "  <tbody>\n",
       "    <tr>\n",
       "      <td>6555541</td>\n",
       "      <td>2019-07-25 10:00:00</td>\n",
       "      <td>108.08</td>\n",
       "    </tr>\n",
       "    <tr>\n",
       "      <td>6556981</td>\n",
       "      <td>2019-07-26 10:00:00</td>\n",
       "      <td>108.62</td>\n",
       "    </tr>\n",
       "    <tr>\n",
       "      <td>6558302</td>\n",
       "      <td>2019-07-29 10:00:00</td>\n",
       "      <td>108.61</td>\n",
       "    </tr>\n",
       "    <tr>\n",
       "      <td>6559742</td>\n",
       "      <td>2019-07-30 10:00:00</td>\n",
       "      <td>108.57</td>\n",
       "    </tr>\n",
       "    <tr>\n",
       "      <td>6561182</td>\n",
       "      <td>2019-07-31 10:00:00</td>\n",
       "      <td>108.55</td>\n",
       "    </tr>\n",
       "  </tbody>\n",
       "</table>\n",
       "</div>"
      ],
      "text/plain": [
       "                   datetime    Open\n",
       "6555541 2019-07-25 10:00:00  108.08\n",
       "6556981 2019-07-26 10:00:00  108.62\n",
       "6558302 2019-07-29 10:00:00  108.61\n",
       "6559742 2019-07-30 10:00:00  108.57\n",
       "6561182 2019-07-31 10:00:00  108.55"
      ]
     },
     "execution_count": 22,
     "metadata": {},
     "output_type": "execute_result"
    }
   ],
   "source": [
    "df_test.tail()"
   ]
  },
  {
   "cell_type": "code",
   "execution_count": 23,
   "metadata": {},
   "outputs": [],
   "source": [
    "df_train.to_csv(\"USDJPY/usdjpy_train_2018.csv\", index=False)\n",
    "df_test.to_csv(\"USDJPY/usdjpy_test_2019.csv\", index=False)"
   ]
  },
  {
   "cell_type": "markdown",
   "metadata": {},
   "source": [
    "# Get previous data"
   ]
  },
  {
   "cell_type": "code",
   "execution_count": 24,
   "metadata": {},
   "outputs": [],
   "source": [
    "df_train2 = df[(df[\"datetime\"]<\"2018-01-1 00:00:00\") & (df[\"datetime\"]>=\"2017-01-1 00:00:00\")]\n",
    "df_test2 = df[(df[\"datetime\"]<=\"2018-08-1 00:00:00\") & (df[\"datetime\"]>=\"2018-01-1 00:00:00\")]"
   ]
  },
  {
   "cell_type": "code",
   "execution_count": 25,
   "metadata": {},
   "outputs": [
    {
     "name": "stdout",
     "output_type": "stream",
     "text": [
      "                   datetime    Open\n",
      "5616050 2017-01-02 10:00:00  117.37\n",
      "                   datetime    Open\n",
      "5980530 2017-12-29 10:00:00  112.58\n"
     ]
    }
   ],
   "source": [
    "print (df_train2.head(1))\n",
    "print (df_train2.tail(1))"
   ]
  },
  {
   "cell_type": "code",
   "execution_count": 26,
   "metadata": {},
   "outputs": [
    {
     "name": "stdout",
     "output_type": "stream",
     "text": [
      "                   datetime    Open\n",
      "5981359 2018-01-02 10:00:00  112.37\n",
      "                   datetime   Open\n",
      "6192140 2018-07-31 10:00:00  111.5\n"
     ]
    }
   ],
   "source": [
    "print (df_test2.head(1))\n",
    "print (df_test2.tail(1))"
   ]
  },
  {
   "cell_type": "code",
   "execution_count": 27,
   "metadata": {},
   "outputs": [],
   "source": [
    "df_train2.to_csv(\"USDJPY/usdjpy_train_2017.csv\", index=False)\n",
    "df_test2.to_csv(\"USDJPY/usdjpy_test_2018.csv\", index=False)"
   ]
  },
  {
   "cell_type": "markdown",
   "metadata": {},
   "source": [
    "# Get previous data2"
   ]
  },
  {
   "cell_type": "code",
   "execution_count": 28,
   "metadata": {},
   "outputs": [
    {
     "name": "stdout",
     "output_type": "stream",
     "text": [
      "                   datetime    Open\n",
      "4884929 2015-01-02 10:00:00  120.38\n",
      "                   datetime    Open\n",
      "5980530 2017-12-29 10:00:00  112.58\n",
      "                   datetime    Open\n",
      "5981359 2018-01-02 10:00:00  112.37\n",
      "                   datetime    Open\n",
      "6561182 2019-07-31 10:00:00  108.55\n"
     ]
    }
   ],
   "source": [
    "df_train3 = df[(df[\"datetime\"]<\"2018-01-1 00:00:00\") & (df[\"datetime\"]>=\"2015-01-1 00:00:00\")]\n",
    "df_test3 = df[(df[\"datetime\"]<=\"2019-08-1 00:00:00\") & (df[\"datetime\"]>=\"2018-01-1 00:00:00\")]\n",
    "print (df_train3.head(1))\n",
    "print (df_train3.tail(1))\n",
    "print (df_test3.head(1))\n",
    "print (df_test3.tail(1))\n",
    "df_train3.to_csv(\"USDJPY/usdjpy_train_2015-2017.csv\", index=False)\n",
    "df_test3.to_csv(\"USDJPY/usdjpy_test_2018-2019.csv\", index=False)"
   ]
  },
  {
   "cell_type": "code",
   "execution_count": 29,
   "metadata": {},
   "outputs": [
    {
     "name": "stdout",
     "output_type": "stream",
     "text": [
      "                   datetime   Open\n",
      "3064676 2010-01-04 10:00:00  92.82\n",
      "                   datetime    Open\n",
      "5980530 2017-12-29 10:00:00  112.58\n",
      "                   datetime    Open\n",
      "5981359 2018-01-02 10:00:00  112.37\n",
      "                   datetime    Open\n",
      "6561182 2019-07-31 10:00:00  108.55\n"
     ]
    }
   ],
   "source": [
    "df_train3 = df[(df[\"datetime\"]<\"2018-01-1 00:00:00\") & (df[\"datetime\"]>=\"2010-01-1 00:00:00\")]\n",
    "df_test3 = df[(df[\"datetime\"]<=\"2019-08-1 00:00:00\") & (df[\"datetime\"]>=\"2018-01-1 00:00:00\")]\n",
    "print (df_train3.head(1))\n",
    "print (df_train3.tail(1))\n",
    "print (df_test3.head(1))\n",
    "print (df_test3.tail(1))\n",
    "df_train3.to_csv(\"USDJPY/usdjpy_train_2010-2017.csv\", index=False)\n",
    "df_test3.to_csv(\"USDJPY/usdjpy_test_2018-2019.csv\", index=False)"
   ]
  },
  {
   "cell_type": "markdown",
   "metadata": {},
   "source": [
    "# plot data"
   ]
  },
  {
   "cell_type": "code",
   "execution_count": 30,
   "metadata": {},
   "outputs": [],
   "source": [
    "df_plot = df[(df[\"datetime\"]<\"2019-08-1 00:00:00\") & (df[\"datetime\"]>=\"2018-01-1 00:00:00\")]"
   ]
  },
  {
   "cell_type": "code",
   "execution_count": 31,
   "metadata": {},
   "outputs": [
    {
     "data": {
      "image/png": "[encoded data removed]",
      "text/plain": [
       "<Figure size 720x360 with 1 Axes>"
      ]
     },
     "metadata": {
      "needs_background": "light"
     },
     "output_type": "display_data"
    }
   ],
   "source": [
    "plt.figure(figsize=(10,5))\n",
    "plt.scatter(df_plot[\"datetime\"],df_plot[\"Open\"])\n",
    "plt.plot(df_plot[\"datetime\"],df_plot[\"Open\"])\n",
    "plt.xticks(rotation='vertical')\n",
    "plt.xlabel('Date', fontsize=14)\n",
    "plt.ylabel('USD_JPY', fontsize=14)\n",
    "plt.savefig('output/usdjpy_overall.png')"
   ]
  },
  {
   "cell_type": "code",
   "execution_count": 32,
   "metadata": {},
   "outputs": [
    {
     "data": {
      "image/png": "[encoded data removed]",
      "text/plain": [
       "<Figure size 720x360 with 1 Axes>"
      ]
     },
     "metadata": {
      "needs_background": "light"
     },
     "output_type": "display_data"
    }
   ],
   "source": [
    "df_plot2 = df[(df[\"datetime\"]<\"2018-08-1 00:00:00\") & (df[\"datetime\"]>=\"2017-01-1 00:00:00\")]\n",
    "plt.figure(figsize=(10,5))\n",
    "plt.scatter(df_plot2[\"datetime\"],df_plot2[\"Open\"])\n",
    "plt.plot(df_plot2[\"datetime\"],df_plot2[\"Open\"])\n",
    "plt.xticks(rotation='vertical')\n",
    "plt.xlabel('Date', fontsize=14)\n",
    "plt.ylabel('USD_JPY', fontsize=14)\n",
    "plt.savefig('output/usdjpy_overall.png')"
   ]
  },
  {
   "cell_type": "code",
   "execution_count": 33,
   "metadata": {},
   "outputs": [
    {
     "data": {
      "image/png": "[encoded data removed]",
      "text/plain": [
       "<Figure size 720x360 with 1 Axes>"
      ]
     },
     "metadata": {
      "needs_background": "light"
     },
     "output_type": "display_data"
    }
   ],
   "source": [
    "plt.figure(figsize=(10,5))\n",
    "plt.scatter(df_plot2[\"datetime\"],np.where(df_plot2[\"Open\"].diff()>=0, 1, -1))  \n",
    "plt.xticks(rotation='vertical')\n",
    "plt.xlabel('Date', fontsize=14)\n",
    "plt.ylabel('USD_JPY', fontsize=14)\n",
    "plt.savefig('output/usdjpy_overall.png')"
   ]
  },
  {
   "cell_type": "code",
   "execution_count": 34,
   "metadata": {},
   "outputs": [
    {
     "data": {
      "image/png": "[encoded data removed]",
      "text/plain": [
       "<Figure size 720x360 with 1 Axes>"
      ]
     },
     "metadata": {
      "needs_background": "light"
     },
     "output_type": "display_data"
    }
   ],
   "source": [
    "df_plot3 = df[(df[\"datetime\"]<\"2019-08-1 00:00:00\") & (df[\"datetime\"]>=\"2015-01-1 00:00:00\")]\n",
    "plt.figure(figsize=(10,5))\n",
    "plt.scatter(df_plot3[\"datetime\"],df_plot3[\"Open\"])\n",
    "plt.plot(df_plot3[\"datetime\"],df_plot3[\"Open\"])\n",
    "plt.xticks(rotation='vertical')\n",
    "plt.xlabel('Date', fontsize=14)\n",
    "plt.ylabel('USD_JPY', fontsize=14)\n",
    "plt.savefig('output/usdjpy_overall.png')"
   ]
  },
  {
   "cell_type": "code",
   "execution_count": null,
   "metadata": {},
   "outputs": [],
   "source": []
  }
 ],
 "metadata": {
  "kernelspec": {
   "display_name": "Python 3",
   "language": "python",
   "name": "python3"
  },
  "language_info": {
   "codemirror_mode": {
    "name": "ipython",
    "version": 3
   },
   "file_extension": ".py",
   "mimetype": "text/x-python",
   "name": "python",
   "nbconvert_exporter": "python",
   "pygments_lexer": "ipython3",
   "version": "3.6.8"
  }
 },
 "nbformat": 4,
 "nbformat_minor": 2
}
